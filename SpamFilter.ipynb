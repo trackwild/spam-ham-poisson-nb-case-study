{
 "cells": [
  {
   "cell_type": "code",
   "execution_count": 181,
   "metadata": {},
   "outputs": [],
   "source": [
    "from scipy.stats import bernoulli, binom, uniform, norm, t, ttest_1samp, ttest_ind, poisson\n",
    "import scipy.stats as ss\n",
    "import numpy as np\n",
    "import pandas as pd\n",
    "import matplotlib.pyplot as plt\n",
    "import random\n",
    "%matplotlib inline\n",
    "\n",
    "from sklearn.feature_extraction.text import CountVectorizer\n",
    "from sklearn.feature_extraction.text import TfidfTransformer\n",
    "from sklearn.naive_bayes import MultinomialNB\n",
    "from sklearn.model_selection import train_test_split\n",
    "from sklearn.metrics import confusion_matrix"
   ]
  },
  {
   "cell_type": "code",
   "execution_count": 124,
   "metadata": {},
   "outputs": [],
   "source": [
    "data_df = pd.read_csv('spam.csv', encoding='ISO-8859-1')\n",
    "#print(data_df.columns)\n",
    "#data_df.head()\n",
    "data_df = data_df[['v1','v2']]"
   ]
  },
  {
   "cell_type": "code",
   "execution_count": 125,
   "metadata": {},
   "outputs": [
    {
     "data": {
      "text/html": [
       "<div>\n",
       "<style scoped>\n",
       "    .dataframe tbody tr th:only-of-type {\n",
       "        vertical-align: middle;\n",
       "    }\n",
       "\n",
       "    .dataframe tbody tr th {\n",
       "        vertical-align: top;\n",
       "    }\n",
       "\n",
       "    .dataframe thead th {\n",
       "        text-align: right;\n",
       "    }\n",
       "</style>\n",
       "<table border=\"1\" class=\"dataframe\">\n",
       "  <thead>\n",
       "    <tr style=\"text-align: right;\">\n",
       "      <th></th>\n",
       "      <th>v1</th>\n",
       "      <th>v2</th>\n",
       "    </tr>\n",
       "  </thead>\n",
       "  <tbody>\n",
       "    <tr>\n",
       "      <th>0</th>\n",
       "      <td>ham</td>\n",
       "      <td>Go until jurong point, crazy.. Available only ...</td>\n",
       "    </tr>\n",
       "    <tr>\n",
       "      <th>1</th>\n",
       "      <td>ham</td>\n",
       "      <td>Ok lar... Joking wif u oni...</td>\n",
       "    </tr>\n",
       "    <tr>\n",
       "      <th>2</th>\n",
       "      <td>spam</td>\n",
       "      <td>Free entry in 2 a wkly comp to win FA Cup fina...</td>\n",
       "    </tr>\n",
       "    <tr>\n",
       "      <th>3</th>\n",
       "      <td>ham</td>\n",
       "      <td>U dun say so early hor... U c already then say...</td>\n",
       "    </tr>\n",
       "    <tr>\n",
       "      <th>4</th>\n",
       "      <td>ham</td>\n",
       "      <td>Nah I don't think he goes to usf, he lives aro...</td>\n",
       "    </tr>\n",
       "  </tbody>\n",
       "</table>\n",
       "</div>"
      ],
      "text/plain": [
       "     v1                                                 v2\n",
       "0   ham  Go until jurong point, crazy.. Available only ...\n",
       "1   ham                      Ok lar... Joking wif u oni...\n",
       "2  spam  Free entry in 2 a wkly comp to win FA Cup fina...\n",
       "3   ham  U dun say so early hor... U c already then say...\n",
       "4   ham  Nah I don't think he goes to usf, he lives aro..."
      ]
     },
     "execution_count": 125,
     "metadata": {},
     "output_type": "execute_result"
    }
   ],
   "source": [
    "data_df.head()"
   ]
  },
  {
   "cell_type": "code",
   "execution_count": 126,
   "metadata": {},
   "outputs": [
    {
     "name": "stdout",
     "output_type": "stream",
     "text": [
      "all=5572, spam=747, ham=4825\n"
     ]
    }
   ],
   "source": [
    "all_c  = len(data_df)\n",
    "ham_c = len(data_df[data_df['v1']=='ham'])\n",
    "spam_c  = len(data_df[data_df['v1']=='spam'])\n",
    "print('all={}, spam={}, ham={}'.format(all_c, spam_c, ham_c))"
   ]
  },
  {
   "cell_type": "code",
   "execution_count": null,
   "metadata": {},
   "outputs": [],
   "source": []
  },
  {
   "cell_type": "code",
   "execution_count": 127,
   "metadata": {},
   "outputs": [
    {
     "name": "stdout",
     "output_type": "stream",
     "text": [
      "a=0.025, xbar=0.13406317300789664, x0=0.125, n=5572, p=0.125, se=0.0044305075313021, t_stat=2.045628620166914\n"
     ]
    }
   ],
   "source": [
    "a=0.025\n",
    "x_bar = spam_c/all_c\n",
    "x0 = 0.125\n",
    "n = all_c\n",
    "p = x0\n",
    "se = np.sqrt(((p*(1-p))/n))\n",
    "#se = sd/((n)**0.5)\n",
    "t_stat = (x_bar-x0)/se\n",
    "print('a={}, xbar={}, x0={}, n={}, p={}, se={}, t_stat={}'.format(a, xbar, x0, n, p, se, t_stat))"
   ]
  },
  {
   "cell_type": "code",
   "execution_count": 128,
   "metadata": {},
   "outputs": [],
   "source": [
    "rv = t((n-1), x0, se)"
   ]
  },
  {
   "cell_type": "code",
   "execution_count": 129,
   "metadata": {},
   "outputs": [
    {
     "data": {
      "text/plain": [
       "0.979580105129301"
      ]
     },
     "execution_count": 129,
     "metadata": {},
     "output_type": "execute_result"
    }
   ],
   "source": [
    "rv.cdf(x_bar)"
   ]
  },
  {
   "cell_type": "code",
   "execution_count": 130,
   "metadata": {},
   "outputs": [
    {
     "data": {
      "text/plain": [
       "0.02041989487069895"
      ]
     },
     "execution_count": 130,
     "metadata": {},
     "output_type": "execute_result"
    }
   ],
   "source": [
    "p_val = 1-rv.cdf(x_bar)\n",
    "p_val"
   ]
  },
  {
   "cell_type": "markdown",
   "metadata": {},
   "source": [
    "Reject Null Hypothesis   p-value=0.02041989487069895"
   ]
  },
  {
   "cell_type": "code",
   "execution_count": 131,
   "metadata": {},
   "outputs": [
    {
     "data": {
      "text/plain": [
       "26.678571428571427"
      ]
     },
     "execution_count": 131,
     "metadata": {},
     "output_type": "execute_result"
    }
   ],
   "source": [
    "daily_spam = spam_c/28\n",
    "daily_spam"
   ]
  },
  {
   "cell_type": "code",
   "execution_count": 178,
   "metadata": {},
   "outputs": [
    {
     "data": {
      "text/plain": [
       "0.2847229977401552"
      ]
     },
     "execution_count": 178,
     "metadata": {},
     "output_type": "execute_result"
    }
   ],
   "source": [
    "rv = poisson(daily_spam)\n",
    "#rv.pmf(30)\n",
    "1-rv.cdf(29)"
   ]
  },
  {
   "cell_type": "markdown",
   "metadata": {},
   "source": [
    "Chance of 30 spam messages per day : 0.05954710918609801"
   ]
  },
  {
   "cell_type": "code",
   "execution_count": 133,
   "metadata": {},
   "outputs": [
    {
     "name": "stdout",
     "output_type": "stream",
     "text": [
      "3556\n",
      "4350\n",
      "1013\n",
      "4345\n",
      "1053\n",
      "896\n",
      "1079\n",
      "1770\n",
      "3036\n",
      "3427\n"
     ]
    }
   ],
   "source": [
    "for i in range(10):\n",
    "    print(random.randint(0,5572))"
   ]
  },
  {
   "cell_type": "code",
   "execution_count": 134,
   "metadata": {},
   "outputs": [],
   "source": [
    "choices = [1096,1603,5500,5277,4573,4759,4679,4852,204,2178]"
   ]
  },
  {
   "cell_type": "code",
   "execution_count": 135,
   "metadata": {},
   "outputs": [
    {
     "name": "stdout",
     "output_type": "stream",
     "text": [
      "Dear Subscriber ur draw 4 å£100 gift voucher will b entered on receipt of a correct ans. When was Elvis Presleys Birthday? TXT answer to 80062\n",
      "Have you heard about that job? I'm going to that wildlife talk again tonight if u want2come. Its that2worzels and a wizzle or whatever it is?! \n",
      "Love has one law; Make happy the person you love. In the same way friendship has one law; Never make ur friend feel alone until you are alive.... Gud night\n",
      "Best msg: It's hard to be with a person, when u know that one more step foward will make u fall in love.. &amp; One step back can ruin ur friendship.. good night:-) ...\n",
      ":( but your not here....\n",
      "I'm home. Doc gave me pain meds says everything is fine.\n",
      "That's cool he'll be here all night, lemme know when you're around\n",
      "I'm fine. Hope you are also\n",
      "U call me alter at 11 ok.\n",
      "I don,t think so. You don't need to be going out that late on a school night. ESPECIALLY when the one class you have is the one you missed last wednesday and probably failed a test in on friday\n"
     ]
    }
   ],
   "source": [
    "for i in choices:\n",
    "    print(data_df['v2'][i])"
   ]
  },
  {
   "cell_type": "code",
   "execution_count": 136,
   "metadata": {},
   "outputs": [],
   "source": [
    "answers = ['spam','ham','ham','ham','ham','ham','ham','ham','ham','ham']"
   ]
  },
  {
   "cell_type": "code",
   "execution_count": 137,
   "metadata": {},
   "outputs": [
    {
     "name": "stdout",
     "output_type": "stream",
     "text": [
      "spam\n",
      "ham\n",
      "ham\n",
      "ham\n",
      "ham\n",
      "ham\n",
      "ham\n",
      "ham\n",
      "ham\n",
      "ham\n"
     ]
    }
   ],
   "source": [
    "for i in choices:\n",
    "    print(data_df['v1'][i])"
   ]
  },
  {
   "cell_type": "markdown",
   "metadata": {},
   "source": [
    "accuracy = 100% | type-II error = 0% | type-I error = 0%"
   ]
  },
  {
   "cell_type": "code",
   "execution_count": 187,
   "metadata": {},
   "outputs": [
    {
     "name": "stdout",
     "output_type": "stream",
     "text": [
      "ham=1672, spam=167, total=1839\n"
     ]
    }
   ],
   "source": [
    "count_vect = CountVectorizer()\n",
    "tfidf_transformer = TfidfTransformer()\n",
    "\n",
    "counts = count_vect.fit_transform(list(data_df['v2']))  # change\n",
    "tfidfs = tfidf_transformer.fit_transform(counts)\n",
    "\n",
    "X_train, X_test, y_train, y_test = train_test_split(tfidfs, list(data_df['v1']), test_size=0.33, random_state=42) #change\n",
    "\n",
    "nb = MultinomialNB().fit(X_train, y_train)\n",
    "predictions = nb.predict(X_test)\n",
    "\n",
    "pred_l = predictions.tolist()\n",
    "\n",
    "ham_p  = pred_l.count('ham')\n",
    "spam_p = pred_l.count('spam')\n",
    "total_p = len(pred_l)\n",
    "\n",
    "print('ham={}, spam={}, total={}'.format(ham_p, spam_p, total_p))"
   ]
  },
  {
   "cell_type": "code",
   "execution_count": 179,
   "metadata": {},
   "outputs": [],
   "source": [
    "compare_l = [list(a) for a in zip(pred_l, y_test)]"
   ]
  },
  {
   "cell_type": "code",
   "execution_count": 182,
   "metadata": {},
   "outputs": [
    {
     "data": {
      "text/plain": [
       "array([[1587,    0],\n",
       "       [  85,  167]], dtype=int64)"
      ]
     },
     "execution_count": 182,
     "metadata": {},
     "output_type": "execute_result"
    }
   ],
   "source": [
    "confusion_matrix(y_test, pred_l)"
   ]
  },
  {
   "cell_type": "code",
   "execution_count": 183,
   "metadata": {},
   "outputs": [],
   "source": [
    "TN = 1587\n",
    "FN = 85\n",
    "FP = 0\n",
    "TP = 167"
   ]
  },
  {
   "cell_type": "code",
   "execution_count": 184,
   "metadata": {},
   "outputs": [
    {
     "data": {
      "text/plain": [
       "0.953779227841218"
      ]
     },
     "execution_count": 184,
     "metadata": {},
     "output_type": "execute_result"
    }
   ],
   "source": [
    "Acc = (TP + TN)/(TP + TN + FP + FN)\n",
    "Acc"
   ]
  },
  {
   "cell_type": "code",
   "execution_count": 185,
   "metadata": {},
   "outputs": [
    {
     "data": {
      "text/plain": [
       "(0, 85)"
      ]
     },
     "execution_count": 185,
     "metadata": {},
     "output_type": "execute_result"
    }
   ],
   "source": [
    "Type1 = 0\n",
    "Type2 = FN\n",
    "Type1, Type2"
   ]
  },
  {
   "cell_type": "code",
   "execution_count": null,
   "metadata": {},
   "outputs": [],
   "source": []
  },
  {
   "cell_type": "markdown",
   "metadata": {},
   "source": [
    "Because Rene Simon is awesome, he predicted with 100% accuracy... impossible to do better."
   ]
  },
  {
   "cell_type": "code",
   "execution_count": 194,
   "metadata": {},
   "outputs": [
    {
     "name": "stdout",
     "output_type": "stream",
     "text": [
      "ham=5046, spam=526, total=5572\n"
     ]
    }
   ],
   "source": [
    "count_vect = CountVectorizer()\n",
    "tfidf_transformer = TfidfTransformer()\n",
    "\n",
    "counts = count_vect.fit_transform(list(data_df['v2']))  # change\n",
    "tfidfs = tfidf_transformer.fit_transform(counts)\n",
    "\n",
    "X_train, X_test, y_train, y_test = train_test_split(tfidfs, list(data_df['v1']), test_size=0.33, random_state=42) #change\n",
    "\n",
    "nb = MultinomialNB().fit(X_train, y_train)\n",
    "predictions = nb.predict(tfidfs)\n",
    "\n",
    "pred_l = predictions.tolist()\n",
    "\n",
    "ham_p  = pred_l.count('ham')\n",
    "spam_p = pred_l.count('spam')\n",
    "total_p = len(pred_l)\n",
    "\n",
    "print('ham={}, spam={}, total={}'.format(ham_p, spam_p, total_p))"
   ]
  },
  {
   "cell_type": "code",
   "execution_count": 195,
   "metadata": {},
   "outputs": [
    {
     "data": {
      "text/plain": [
       "array([[4825,    0],\n",
       "       [ 221,  526]], dtype=int64)"
      ]
     },
     "execution_count": 195,
     "metadata": {},
     "output_type": "execute_result"
    }
   ],
   "source": [
    "confusion_matrix(list(data_df['v1']), pred_l)"
   ]
  },
  {
   "cell_type": "markdown",
   "metadata": {},
   "source": [
    "There were 221 of Type-II Error"
   ]
  },
  {
   "cell_type": "code",
   "execution_count": 199,
   "metadata": {},
   "outputs": [
    {
     "data": {
      "text/plain": [
       "5046"
      ]
     },
     "execution_count": 199,
     "metadata": {},
     "output_type": "execute_result"
    }
   ],
   "source": [
    "compare_l = [list(a) for a in zip(list(data_df['v1']), pred_l)]\n",
    "filtered_l = list()\n",
    "for i, j in compare_l:\n",
    "    if j == 'ham':\n",
    "        filtered_l.append(i)\n",
    "len(filtered_l) "
   ]
  },
  {
   "cell_type": "code",
   "execution_count": 211,
   "metadata": {},
   "outputs": [
    {
     "name": "stdout",
     "output_type": "stream",
     "text": [
      "x_bar=0.04379706698374951,   cdf=9.250623977625579e-163,  se=0.0028808717601050762,  n=5046\n"
     ]
    }
   ],
   "source": [
    "x_bar = filtered_l.count('spam')/len(filtered_l)\n",
    "n = 5046\n",
    "se = np.sqrt(((p*(1-p))/n))\n",
    "rv = t((n-1), x0, se)\n",
    "\n",
    "print('x_bar={},   cdf={},  se={},  n={}'.format(x_bar, rv.cdf(x_bar), se, n))"
   ]
  },
  {
   "cell_type": "code",
   "execution_count": null,
   "metadata": {},
   "outputs": [],
   "source": []
  },
  {
   "cell_type": "code",
   "execution_count": null,
   "metadata": {},
   "outputs": [],
   "source": []
  }
 ],
 "metadata": {
  "kernelspec": {
   "display_name": "Python 3",
   "language": "python",
   "name": "python3"
  },
  "language_info": {
   "codemirror_mode": {
    "name": "ipython",
    "version": 3
   },
   "file_extension": ".py",
   "mimetype": "text/x-python",
   "name": "python",
   "nbconvert_exporter": "python",
   "pygments_lexer": "ipython3",
   "version": "3.6.4"
  }
 },
 "nbformat": 4,
 "nbformat_minor": 2
}
